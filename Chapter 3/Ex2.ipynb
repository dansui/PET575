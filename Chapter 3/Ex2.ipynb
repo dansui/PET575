{
 "cells": [
  {
   "cell_type": "markdown",
   "metadata": {
    "colab_type": "text",
    "id": "view-in-github"
   },
   "source": [
    "<a href=\"https://colab.research.google.com/github/dansui/PET575/blob/master/Chapter%203/Ex2.ipynb\" target=\"_parent\"><img src=\"https://colab.research.google.com/assets/colab-badge.svg\" alt=\"Open In Colab\"/></a>"
   ]
  },
  {
   "cell_type": "code",
   "execution_count": 1,
   "metadata": {
    "colab": {},
    "colab_type": "code",
    "id": "IQr0PQbpcnow",
    "outputId": "46d45dfe-0f69-4583-ecf7-28336d0e0342"
   },
   "outputs": [
    {
     "data": {
      "text/plain": [
       "<matplotlib.legend.Legend at 0x1c209c669c8>"
      ]
     },
     "execution_count": 1,
     "metadata": {},
     "output_type": "execute_result"
    }
   ],
   "source": [
    "import numpy as np\n",
    "import math\n",
    "m=2\n",
    "g=9.8\n",
    "c=0.1\n",
    "T=4\n",
    "Ts=0.01\n",
    "\n",
    "t=np.arange(0,T+0.1,0.1)\n",
    "V_a=g*m/c*(1-np.exp(-c/m*t))\n",
    "\n",
    "V_n=np.array([0])\n",
    "temp=V_n[0]\n",
    "\n",
    "for i in np.arange(Ts, T, Ts):\n",
    "    temp = temp+(g-c/m*temp)*Ts\n",
    "    V_n=np.append(V_n,temp)\n",
    "\n",
    "import matplotlib.pyplot as plt\n",
    "plt.plot(t,V_a,'b')\n",
    "plt.plot(np.arange(0,T,Ts),V_n,'ro')\n",
    "\n",
    "plt.legend(['True Solution','Euler'])"
   ]
  },
  {
   "cell_type": "code",
   "execution_count": null,
   "metadata": {
    "colab": {},
    "colab_type": "code",
    "id": "RTuOigFycno0"
   },
   "outputs": [],
   "source": []
  },
  {
   "cell_type": "code",
   "execution_count": null,
   "metadata": {},
   "outputs": [],
   "source": []
  }
 ],
 "metadata": {
  "colab": {
   "include_colab_link": true,
   "name": "Ex2.ipynb",
   "provenance": []
  },
  "kernelspec": {
   "display_name": "Python 3",
   "language": "python",
   "name": "python3"
  },
  "language_info": {
   "codemirror_mode": {
    "name": "ipython",
    "version": 3
   },
   "file_extension": ".py",
   "mimetype": "text/x-python",
   "name": "python",
   "nbconvert_exporter": "python",
   "pygments_lexer": "ipython3",
   "version": "3.7.4"
  }
 },
 "nbformat": 4,
 "nbformat_minor": 1
}
